{
  "nbformat": 4,
  "nbformat_minor": 0,
  "metadata": {
    "colab": {
      "name": "multiple_regression_concepts.ipynb",
      "provenance": [],
      "authorship_tag": "ABX9TyNK/TKY6CVywZ67+9sdr1tH"
    },
    "kernelspec": {
      "name": "python3",
      "display_name": "Python 3"
    }
  },
  "cells": [
    {
      "cell_type": "code",
      "metadata": {
        "id": "Tsr7lqTEObVq",
        "colab_type": "code",
        "colab": {}
      },
      "source": [
        "import numpy as np\n",
        "x=np.array([[1,2,3],\n",
        "            [4,5,6],\n",
        "            [7,8,9]])\n",
        "#print(x)\n",
        "y=np.array([3,9,15])\n",
        "#print(y)\n",
        "w=np.random.rand(1,3)\n",
        "#print(w)\n",
        "b=np.random.rand(1)\n",
        "h=0.00001\n",
        "n=20000\n",
        "for i in range(n)  :\n",
        "    pred=np.dot(w,x)+b\n",
        "    dz=(1/3)*(pred-y)\n",
        "    dw=(1/3)*np.dot(dz,x)\n",
        "    db=(1/3)*np.sum(pred-y)\n",
        "    w=w-h*dw\n",
        "    b=b-h*db\n",
        "\n",
        "#print(w)\n",
        "#print(b)\n",
        "def predict(u):\n",
        "    a=np.dot(w,u)+b\n",
        "    return a\n",
        "result=predict(np.array([10,\n",
        "                         11,\n",
        "                         12]))\n",
        "print(result)"
      ],
      "execution_count": null,
      "outputs": []
    }
  ]
}