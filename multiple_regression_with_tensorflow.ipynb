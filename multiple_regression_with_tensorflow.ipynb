{
  "nbformat": 4,
  "nbformat_minor": 0,
  "metadata": {
    "colab": {
      "name": "multiple_regression_with_tensorflow.ipynb",
      "provenance": [],
      "authorship_tag": "ABX9TyN2oRDx/oSOwR+sSKJpKECC"
    },
    "kernelspec": {
      "name": "python3",
      "display_name": "Python 3"
    }
  },
  "cells": [
    {
      "cell_type": "code",
      "metadata": {
        "id": "P7U24TxCOrdv",
        "colab_type": "code",
        "colab": {
          "base_uri": "https://localhost:8080/",
          "height": 391
        },
        "outputId": "fc75e467-a53a-4939-e8f3-5fc7965df69c"
      },
      "source": [
        "import tensorflow as tf\n",
        "import numpy as np\n",
        "tf.compat.v1.disable_eager_execution()\n",
        "x=np.array([[1,2,3],\n",
        "            [4,5,6],\n",
        "            [7,8,9]])\n",
        "y=np.array([3,9,15])\n",
        "n_samples=3\n",
        "learning_rate=0.0001\n",
        "X=tf.compat.v1.placeholder(tf.float64)\n",
        "Y=tf.compat.v1.placeholder(tf.float64)\n",
        "\n",
        "W=tf.compat.v1.Variable(np.random.rand(1,3))\n",
        "B=tf.compat.v1.Variable(np.random.rand(1))\n",
        "\n",
        "\n",
        "\n",
        "pred=1/(1+np.exp(-(np.dot(W,X)+B)))\n",
        "   \n",
        "\n",
        "#pred=tf.add(tf.multiply(W,X),B)\n",
        "cost=tf.reduce_sum((pred-Y)**2)/(2*n_samples)\n",
        "optimizer=tf.compat.v1.train.GradientDescentOptimizer(learning_rate).minimize(cost)\n",
        "\n",
        "init=tf.compat.v1.global_variables_initializer()\n",
        "with tf.compat.v1.Session() as sess:\n",
        "    sess.run(init)\n",
        "    for i in range(2000):\n",
        "        #for x,y in zip(x_train,y_train):\n",
        "            sess.run(optimizer,feed_dict={X:x,Y:y})\n",
        "    w=sess.run(W)\n",
        "    b=sess.run(B)\n",
        "#print(w)\n",
        "#print(b)\n",
        "#plt.plot(x_train,w*x_train+b)\n",
        "#plt.show()\n",
        "#def predict(x):\n",
        "    #a=w*x+b\n",
        "    #return a\n",
        "#n=int(input('enter the value that you want to predict='))\n",
        "#result=predict(n)\n",
        "def predict(u):\n",
        "  a=np.dot(w,u)+b\n",
        "  return a\n",
        "result=predict([10,\n",
        "                11,\n",
        "                12])\n",
        "  \n",
        "print(result)\n",
        "\n",
        "\n",
        "\n",
        "\n"
      ],
      "execution_count": null,
      "outputs": [
        {
          "output_type": "error",
          "ename": "NotImplementedError",
          "evalue": "ignored",
          "traceback": [
            "\u001b[0;31m---------------------------------------------------------------------------\u001b[0m",
            "\u001b[0;31mNotImplementedError\u001b[0m                       Traceback (most recent call last)",
            "\u001b[0;32m<ipython-input-5-553a6e3d1aed>\u001b[0m in \u001b[0;36m<module>\u001b[0;34m()\u001b[0m\n\u001b[1;32m     16\u001b[0m \u001b[0;34m\u001b[0m\u001b[0m\n\u001b[1;32m     17\u001b[0m \u001b[0;34m\u001b[0m\u001b[0m\n\u001b[0;32m---> 18\u001b[0;31m \u001b[0mpred\u001b[0m\u001b[0;34m=\u001b[0m\u001b[0;36m1\u001b[0m\u001b[0;34m/\u001b[0m\u001b[0;34m(\u001b[0m\u001b[0;36m1\u001b[0m\u001b[0;34m+\u001b[0m\u001b[0mnp\u001b[0m\u001b[0;34m.\u001b[0m\u001b[0mexp\u001b[0m\u001b[0;34m(\u001b[0m\u001b[0;34m-\u001b[0m\u001b[0;34m(\u001b[0m\u001b[0mnp\u001b[0m\u001b[0;34m.\u001b[0m\u001b[0mdot\u001b[0m\u001b[0;34m(\u001b[0m\u001b[0mW\u001b[0m\u001b[0;34m,\u001b[0m\u001b[0mX\u001b[0m\u001b[0;34m)\u001b[0m\u001b[0;34m+\u001b[0m\u001b[0mB\u001b[0m\u001b[0;34m)\u001b[0m\u001b[0;34m)\u001b[0m\u001b[0;34m)\u001b[0m\u001b[0;34m\u001b[0m\u001b[0;34m\u001b[0m\u001b[0m\n\u001b[0m\u001b[1;32m     19\u001b[0m \u001b[0;34m\u001b[0m\u001b[0m\n\u001b[1;32m     20\u001b[0m \u001b[0;34m\u001b[0m\u001b[0m\n",
            "\u001b[0;32m<__array_function__ internals>\u001b[0m in \u001b[0;36mdot\u001b[0;34m(*args, **kwargs)\u001b[0m\n",
            "\u001b[0;32m/usr/local/lib/python3.6/dist-packages/tensorflow/python/framework/ops.py\u001b[0m in \u001b[0;36m__array__\u001b[0;34m(self)\u001b[0m\n\u001b[1;32m    747\u001b[0m   \u001b[0;32mdef\u001b[0m \u001b[0m__array__\u001b[0m\u001b[0;34m(\u001b[0m\u001b[0mself\u001b[0m\u001b[0;34m)\u001b[0m\u001b[0;34m:\u001b[0m\u001b[0;34m\u001b[0m\u001b[0;34m\u001b[0m\u001b[0m\n\u001b[1;32m    748\u001b[0m     raise NotImplementedError(\"Cannot convert a symbolic Tensor ({}) to a numpy\"\n\u001b[0;32m--> 749\u001b[0;31m                               \" array.\".format(self.name))\n\u001b[0m\u001b[1;32m    750\u001b[0m \u001b[0;34m\u001b[0m\u001b[0m\n\u001b[1;32m    751\u001b[0m   \u001b[0;32mdef\u001b[0m \u001b[0m__len__\u001b[0m\u001b[0;34m(\u001b[0m\u001b[0mself\u001b[0m\u001b[0;34m)\u001b[0m\u001b[0;34m:\u001b[0m\u001b[0;34m\u001b[0m\u001b[0;34m\u001b[0m\u001b[0m\n",
            "\u001b[0;31mNotImplementedError\u001b[0m: Cannot convert a symbolic Tensor (Placeholder_8:0) to a numpy array."
          ]
        }
      ]
    }
  ]
}