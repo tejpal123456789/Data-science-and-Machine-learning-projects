{
  "nbformat": 4,
  "nbformat_minor": 0,
  "metadata": {
    "colab": {
      "name": "logistic_regression_concept.ipynb",
      "provenance": [],
      "authorship_tag": "ABX9TyMbqu8rvVVXYug29/KkHVVG"
    },
    "kernelspec": {
      "name": "python3",
      "display_name": "Python 3"
    }
  },
  "cells": [
    {
      "cell_type": "code",
      "metadata": {
        "id": "XtnRNwUYlYf4",
        "colab_type": "code",
        "colab": {
          "base_uri": "https://localhost:8080/",
          "height": 35
        },
        "outputId": "bf4532e5-dc8d-4baa-a294-984c7db4b624"
      },
      "source": [
        "import numpy as np\n",
        "x=np.array([[1,1,1,0],\n",
        "            [0,1,1,1],\n",
        "            [0,0,1,0]])\n",
        "#print(x)\n",
        "y=np.array([1,0,0,1])\n",
        "w=np.random.rand(1,3)\n",
        "b=np.random.rand(1)\n",
        "\n",
        "def sigmoid(x):\n",
        "  a=1/(1+np.exp(x))\n",
        "  return a\n",
        "h=0.00000001\n",
        "n=200000\n",
        "for i in range(n):\n",
        "  pred=np.dot(w,x)+b\n",
        "  z=sigmoid(pred)\n",
        "  dz=z-y\n",
        "  dw=(1/4)*np.dot(x,dz.T)\n",
        "  db=(1/4)*np.sum(dz)\n",
        "  w=w-h*dw.T\n",
        "  b=b-h*db\n",
        "#print(w)\n",
        "#print(b)  \n",
        "\n",
        "def predict(u):\n",
        "  p=np.dot(w,u)+b\n",
        "  aa=sigmoid(p)\n",
        "  return aa\n",
        "result=predict(np.array([0,\n",
        "                         0,\n",
        "                         1]))\n",
        "print(result)  \n",
        "\n",
        "\n",
        "\n",
        "\n"
      ],
      "execution_count": null,
      "outputs": [
        {
          "output_type": "stream",
          "text": [
            "[0.23805769]\n"
          ],
          "name": "stdout"
        }
      ]
    }
  ]
}