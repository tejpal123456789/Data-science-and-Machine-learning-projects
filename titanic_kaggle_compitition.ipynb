{
  "nbformat": 4,
  "nbformat_minor": 0,
  "metadata": {
    "colab": {
      "name": "titanic_kaggle_compitition.ipynb",
      "provenance": [],
      "mount_file_id": "1ferUFaRZl7X8PgA3iXdcBa1D_RTEx9yN",
      "authorship_tag": "ABX9TyOr21294vQY4Kk64zdqmrZ1"
    },
    "kernelspec": {
      "name": "python3",
      "display_name": "Python 3"
    }
  },
  "cells": [
    {
      "cell_type": "code",
      "metadata": {
        "id": "YR56nHT9bXC5",
        "colab_type": "code",
        "colab": {
          "base_uri": "https://localhost:8080/",
          "height": 1000
        },
        "outputId": "892a06e5-250a-42ee-cdb7-82d1d84ce328"
      },
      "source": [
        "import tensorflow as tf\n",
        "#!pip install seaborn upgrade\n",
        "from tensorflow import keras \n",
        "\n",
        "from tensorflow.keras import Sequential\n",
        "from tensorflow.keras.layers import Flatten,Dense\n",
        "import numpy as np\n",
        "import pandas as pd\n",
        "import seaborn as sns\n",
        "import sklearn\n",
        "#print(sklearn.__version__)\n",
        "train=pd.read_csv('/content/drive/My Drive/data_deep_learning/titanic_machine_learning_dataset_kaggle.csv')\n",
        "train.head()\n",
        "test=pd.read_csv('/content/drive/My Drive/data_deep_learning/titanic_ml_test_kaggle.csv')\n",
        "test.head()\n",
        "\n",
        "#print(data.shape)\n",
        "##data.describe()\n",
        "#sns.heatmap(data.isnull(),yticklabels=False,cbar=False,cmap='viridis')\n",
        "\n",
        "#sns.set_style('whitegrid')\n",
        "#sns.countplot(x='Survived',hue='Sex',data=data,palette='RdBu_r')\n",
        "\n",
        "#sns.set_style('whitegrid')\n",
        "#sns.countplot(x='Survived',hue='Pclass',data=data,palette='RdBu_r')\n",
        "\n",
        "#sns.distplot(data['Age'].dropna(),kde=False,color='darkred',bins=30)\n",
        "\n",
        "\n",
        "#cols=['sex']\n",
        "\n",
        "\n",
        "data=train.append(test)\n",
        "data.shape\n",
        "\n",
        "passenger_id=test['PassengerId']\n",
        "train.head()\n",
        "\n",
        "train.set_index(['PassengerId'],inplace=True)\n",
        "train.head()\n",
        "\n",
        "\n",
        "test.set_index(['PassengerId'],inplace=True)\n",
        "test.head()\n",
        "#print(data)\n",
        "#print(train)\n",
        "#train=train.iloc[:,:].values\n",
        "#print(train)\n",
        "train['Age'].fillna(train['Age'].median(),inplace=True)\n",
        "train.head()\n",
        "test['Age'].fillna(test['Age'].median(),inplace=True)\n",
        "#print(train['Age'])\n",
        "test['Age'].isnull().sum()\n",
        "\n",
        "train['Embarked'].value_counts()\n",
        "train['Embarked'].fillna('S',inplace=True)\n",
        "train.isnull().sum()\n",
        "test.isnull().sum()\n",
        "\n",
        "test.Fare.fillna(test.Fare.mean(),inplace=True)\n",
        "#print(train.isnull().sum())\n",
        "#print(test.isnull().sum())\n",
        "\n",
        "#print(train)\n",
        "#for cabin\n",
        "train.head()\n",
        "train1=train.drop(['Cabin','Name','Ticket','Survived'],axis=1)\n",
        "train.head()\n",
        "y_train=train['Survived']\n",
        "#print(y_train)\n",
        "test=test.drop(['Cabin','Name','Ticket'],axis=1)\n",
        "test.head()\n",
        "\n",
        "from sklearn.preprocessing import LabelEncoder\n",
        "\n",
        "label1=LabelEncoder()\n",
        "train1['Sex']=label1.fit_transform(train1['Sex'])\n",
        "train.head()\n",
        "\n",
        "test['Sex']=label1.fit_transform(test['Sex'])\n",
        "test.head()\n",
        "label2=LabelEncoder()\n",
        "train1['Embarked']=label2.fit_transform(train1['Embarked'])\n",
        "\n",
        "train1=pd.get_dummies(train1,drop_first=True,columns=['Embarked'])\n",
        "train1.head()\n",
        "test=pd.get_dummies(test,drop_first=True,columns=['Embarked'])\n",
        "#test.head()\n",
        "\n",
        "train1.head()\n",
        "\n",
        "from sklearn.preprocessing import StandardScaler\n",
        "scale=StandardScaler()\n",
        "train1=scale.fit_transform(train1)\n",
        "test=scale.fit_transform(test)\n",
        "\n",
        "model=Sequential()\n",
        "model.add(Flatten())\n",
        "model.add(Dense(128,activation='relu'))\n",
        "model.add(Dense(128,activation='relu'))\n",
        "model.add(Dense(256,activation='relu'))\n",
        "model.add(Dense(512,activation='relu'))\n",
        "model.add(Dense(1,activation='sigmoid'))\n",
        "\n",
        "model.compile(optimizer='adam',loss=tf.keras.losses.BinaryCrossentropy(),metrics=['accuracy'])\n",
        "model.fit(train1,y_train,epochs=50)\n",
        "\n",
        "prediction=model.predict_classes(test)\n",
        "print(prediction)"
      ],
      "execution_count": null,
      "outputs": [
        {
          "output_type": "stream",
          "text": [
            "Epoch 1/50\n",
            "28/28 [==============================] - 0s 4ms/step - loss: 0.4939 - accuracy: 0.7755\n",
            "Epoch 2/50\n",
            "28/28 [==============================] - 0s 4ms/step - loss: 0.4311 - accuracy: 0.8316\n",
            "Epoch 3/50\n",
            "28/28 [==============================] - 0s 3ms/step - loss: 0.4079 - accuracy: 0.8294\n",
            "Epoch 4/50\n",
            "28/28 [==============================] - 0s 3ms/step - loss: 0.3961 - accuracy: 0.8350\n",
            "Epoch 5/50\n",
            "28/28 [==============================] - 0s 3ms/step - loss: 0.3933 - accuracy: 0.8373\n",
            "Epoch 6/50\n",
            "28/28 [==============================] - 0s 4ms/step - loss: 0.3879 - accuracy: 0.8440\n",
            "Epoch 7/50\n",
            "28/28 [==============================] - 0s 3ms/step - loss: 0.3892 - accuracy: 0.8272\n",
            "Epoch 8/50\n",
            "28/28 [==============================] - 0s 4ms/step - loss: 0.3732 - accuracy: 0.8451\n",
            "Epoch 9/50\n",
            "28/28 [==============================] - 0s 3ms/step - loss: 0.3669 - accuracy: 0.8451\n",
            "Epoch 10/50\n",
            "28/28 [==============================] - 0s 4ms/step - loss: 0.3657 - accuracy: 0.8496\n",
            "Epoch 11/50\n",
            "28/28 [==============================] - 0s 4ms/step - loss: 0.3605 - accuracy: 0.8552\n",
            "Epoch 12/50\n",
            "28/28 [==============================] - 0s 4ms/step - loss: 0.3621 - accuracy: 0.8519\n",
            "Epoch 13/50\n",
            "28/28 [==============================] - 0s 4ms/step - loss: 0.3503 - accuracy: 0.8541\n",
            "Epoch 14/50\n",
            "28/28 [==============================] - 0s 4ms/step - loss: 0.3474 - accuracy: 0.8586\n",
            "Epoch 15/50\n",
            "28/28 [==============================] - 0s 4ms/step - loss: 0.3384 - accuracy: 0.8597\n",
            "Epoch 16/50\n",
            "28/28 [==============================] - 0s 4ms/step - loss: 0.3366 - accuracy: 0.8530\n",
            "Epoch 17/50\n",
            "28/28 [==============================] - 0s 4ms/step - loss: 0.3462 - accuracy: 0.8530\n",
            "Epoch 18/50\n",
            "28/28 [==============================] - 0s 3ms/step - loss: 0.3458 - accuracy: 0.8541\n",
            "Epoch 19/50\n",
            "28/28 [==============================] - 0s 4ms/step - loss: 0.3369 - accuracy: 0.8631\n",
            "Epoch 20/50\n",
            "28/28 [==============================] - 0s 4ms/step - loss: 0.3254 - accuracy: 0.8687\n",
            "Epoch 21/50\n",
            "28/28 [==============================] - 0s 3ms/step - loss: 0.3285 - accuracy: 0.8631\n",
            "Epoch 22/50\n",
            "28/28 [==============================] - 0s 3ms/step - loss: 0.3206 - accuracy: 0.8664\n",
            "Epoch 23/50\n",
            "28/28 [==============================] - 0s 3ms/step - loss: 0.3213 - accuracy: 0.8597\n",
            "Epoch 24/50\n",
            "28/28 [==============================] - 0s 4ms/step - loss: 0.3145 - accuracy: 0.8676\n",
            "Epoch 25/50\n",
            "28/28 [==============================] - 0s 3ms/step - loss: 0.3133 - accuracy: 0.8687\n",
            "Epoch 26/50\n",
            "28/28 [==============================] - 0s 3ms/step - loss: 0.3177 - accuracy: 0.8709\n",
            "Epoch 27/50\n",
            "28/28 [==============================] - 0s 4ms/step - loss: 0.3015 - accuracy: 0.8810\n",
            "Epoch 28/50\n",
            "28/28 [==============================] - 0s 3ms/step - loss: 0.3168 - accuracy: 0.8721\n",
            "Epoch 29/50\n",
            "28/28 [==============================] - 0s 4ms/step - loss: 0.3022 - accuracy: 0.8765\n",
            "Epoch 30/50\n",
            "28/28 [==============================] - 0s 4ms/step - loss: 0.3005 - accuracy: 0.8721\n",
            "Epoch 31/50\n",
            "28/28 [==============================] - 0s 4ms/step - loss: 0.2983 - accuracy: 0.8743\n",
            "Epoch 32/50\n",
            "28/28 [==============================] - 0s 4ms/step - loss: 0.2989 - accuracy: 0.8777\n",
            "Epoch 33/50\n",
            "28/28 [==============================] - 0s 4ms/step - loss: 0.2939 - accuracy: 0.8788\n",
            "Epoch 34/50\n",
            "28/28 [==============================] - 0s 4ms/step - loss: 0.3296 - accuracy: 0.8642\n",
            "Epoch 35/50\n",
            "28/28 [==============================] - 0s 4ms/step - loss: 0.3013 - accuracy: 0.8709\n",
            "Epoch 36/50\n",
            "28/28 [==============================] - 0s 3ms/step - loss: 0.2942 - accuracy: 0.8709\n",
            "Epoch 37/50\n",
            "28/28 [==============================] - 0s 3ms/step - loss: 0.2951 - accuracy: 0.8743\n",
            "Epoch 38/50\n",
            "28/28 [==============================] - 0s 4ms/step - loss: 0.2891 - accuracy: 0.8833\n",
            "Epoch 39/50\n",
            "28/28 [==============================] - 0s 3ms/step - loss: 0.2939 - accuracy: 0.8698\n",
            "Epoch 40/50\n",
            "28/28 [==============================] - 0s 3ms/step - loss: 0.2865 - accuracy: 0.8754\n",
            "Epoch 41/50\n",
            "28/28 [==============================] - 0s 3ms/step - loss: 0.2869 - accuracy: 0.8754\n",
            "Epoch 42/50\n",
            "28/28 [==============================] - 0s 3ms/step - loss: 0.2892 - accuracy: 0.8799\n",
            "Epoch 43/50\n",
            "28/28 [==============================] - 0s 3ms/step - loss: 0.2822 - accuracy: 0.8822\n",
            "Epoch 44/50\n",
            "28/28 [==============================] - 0s 4ms/step - loss: 0.2895 - accuracy: 0.8743\n",
            "Epoch 45/50\n",
            "28/28 [==============================] - 0s 3ms/step - loss: 0.2803 - accuracy: 0.8799\n",
            "Epoch 46/50\n",
            "28/28 [==============================] - 0s 4ms/step - loss: 0.2779 - accuracy: 0.8810\n",
            "Epoch 47/50\n",
            "28/28 [==============================] - 0s 3ms/step - loss: 0.2777 - accuracy: 0.8754\n",
            "Epoch 48/50\n",
            "28/28 [==============================] - 0s 4ms/step - loss: 0.2681 - accuracy: 0.8810\n",
            "Epoch 49/50\n",
            "28/28 [==============================] - 0s 4ms/step - loss: 0.2748 - accuracy: 0.8709\n",
            "Epoch 50/50\n",
            "28/28 [==============================] - 0s 4ms/step - loss: 0.2660 - accuracy: 0.8844\n",
            "[[0]\n",
            " [0]\n",
            " [0]\n",
            " [0]\n",
            " [0]\n",
            " [0]\n",
            " [1]\n",
            " [0]\n",
            " [1]\n",
            " [0]\n",
            " [0]\n",
            " [1]\n",
            " [1]\n",
            " [0]\n",
            " [1]\n",
            " [1]\n",
            " [0]\n",
            " [0]\n",
            " [0]\n",
            " [0]\n",
            " [1]\n",
            " [1]\n",
            " [1]\n",
            " [1]\n",
            " [1]\n",
            " [0]\n",
            " [1]\n",
            " [0]\n",
            " [1]\n",
            " [0]\n",
            " [0]\n",
            " [0]\n",
            " [0]\n",
            " [0]\n",
            " [1]\n",
            " [0]\n",
            " [0]\n",
            " [1]\n",
            " [0]\n",
            " [1]\n",
            " [0]\n",
            " [1]\n",
            " [0]\n",
            " [1]\n",
            " [1]\n",
            " [0]\n",
            " [1]\n",
            " [0]\n",
            " [1]\n",
            " [1]\n",
            " [1]\n",
            " [0]\n",
            " [1]\n",
            " [1]\n",
            " [0]\n",
            " [0]\n",
            " [0]\n",
            " [0]\n",
            " [0]\n",
            " [1]\n",
            " [0]\n",
            " [0]\n",
            " [0]\n",
            " [1]\n",
            " [0]\n",
            " [1]\n",
            " [1]\n",
            " [1]\n",
            " [0]\n",
            " [1]\n",
            " [1]\n",
            " [0]\n",
            " [0]\n",
            " [0]\n",
            " [1]\n",
            " [0]\n",
            " [0]\n",
            " [1]\n",
            " [0]\n",
            " [1]\n",
            " [1]\n",
            " [1]\n",
            " [1]\n",
            " [0]\n",
            " [0]\n",
            " [0]\n",
            " [1]\n",
            " [1]\n",
            " [1]\n",
            " [1]\n",
            " [0]\n",
            " [0]\n",
            " [1]\n",
            " [0]\n",
            " [1]\n",
            " [0]\n",
            " [1]\n",
            " [0]\n",
            " [1]\n",
            " [0]\n",
            " [1]\n",
            " [0]\n",
            " [0]\n",
            " [0]\n",
            " [0]\n",
            " [0]\n",
            " [0]\n",
            " [0]\n",
            " [0]\n",
            " [0]\n",
            " [0]\n",
            " [1]\n",
            " [1]\n",
            " [1]\n",
            " [1]\n",
            " [1]\n",
            " [0]\n",
            " [1]\n",
            " [1]\n",
            " [1]\n",
            " [1]\n",
            " [0]\n",
            " [1]\n",
            " [0]\n",
            " [0]\n",
            " [1]\n",
            " [0]\n",
            " [1]\n",
            " [0]\n",
            " [0]\n",
            " [0]\n",
            " [0]\n",
            " [0]\n",
            " [0]\n",
            " [0]\n",
            " [0]\n",
            " [0]\n",
            " [0]\n",
            " [1]\n",
            " [0]\n",
            " [0]\n",
            " [1]\n",
            " [0]\n",
            " [0]\n",
            " [1]\n",
            " [0]\n",
            " [0]\n",
            " [0]\n",
            " [1]\n",
            " [0]\n",
            " [1]\n",
            " [0]\n",
            " [0]\n",
            " [1]\n",
            " [0]\n",
            " [0]\n",
            " [1]\n",
            " [1]\n",
            " [1]\n",
            " [1]\n",
            " [1]\n",
            " [1]\n",
            " [1]\n",
            " [0]\n",
            " [0]\n",
            " [0]\n",
            " [1]\n",
            " [0]\n",
            " [1]\n",
            " [1]\n",
            " [0]\n",
            " [0]\n",
            " [0]\n",
            " [0]\n",
            " [0]\n",
            " [1]\n",
            " [1]\n",
            " [1]\n",
            " [1]\n",
            " [1]\n",
            " [0]\n",
            " [1]\n",
            " [1]\n",
            " [0]\n",
            " [1]\n",
            " [0]\n",
            " [1]\n",
            " [0]\n",
            " [0]\n",
            " [0]\n",
            " [0]\n",
            " [1]\n",
            " [1]\n",
            " [0]\n",
            " [1]\n",
            " [0]\n",
            " [1]\n",
            " [1]\n",
            " [0]\n",
            " [0]\n",
            " [1]\n",
            " [1]\n",
            " [1]\n",
            " [1]\n",
            " [0]\n",
            " [0]\n",
            " [1]\n",
            " [0]\n",
            " [1]\n",
            " [0]\n",
            " [0]\n",
            " [0]\n",
            " [0]\n",
            " [1]\n",
            " [1]\n",
            " [1]\n",
            " [1]\n",
            " [0]\n",
            " [1]\n",
            " [0]\n",
            " [1]\n",
            " [0]\n",
            " [1]\n",
            " [0]\n",
            " [0]\n",
            " [1]\n",
            " [0]\n",
            " [1]\n",
            " [0]\n",
            " [0]\n",
            " [0]\n",
            " [1]\n",
            " [0]\n",
            " [0]\n",
            " [1]\n",
            " [0]\n",
            " [1]\n",
            " [0]\n",
            " [1]\n",
            " [1]\n",
            " [0]\n",
            " [1]\n",
            " [0]\n",
            " [0]\n",
            " [0]\n",
            " [1]\n",
            " [1]\n",
            " [0]\n",
            " [1]\n",
            " [0]\n",
            " [1]\n",
            " [0]\n",
            " [0]\n",
            " [0]\n",
            " [0]\n",
            " [0]\n",
            " [0]\n",
            " [0]\n",
            " [1]\n",
            " [0]\n",
            " [0]\n",
            " [0]\n",
            " [1]\n",
            " [1]\n",
            " [0]\n",
            " [0]\n",
            " [0]\n",
            " [0]\n",
            " [0]\n",
            " [0]\n",
            " [0]\n",
            " [0]\n",
            " [1]\n",
            " [1]\n",
            " [0]\n",
            " [1]\n",
            " [0]\n",
            " [0]\n",
            " [0]\n",
            " [0]\n",
            " [1]\n",
            " [1]\n",
            " [1]\n",
            " [0]\n",
            " [1]\n",
            " [0]\n",
            " [0]\n",
            " [0]\n",
            " [0]\n",
            " [0]\n",
            " [1]\n",
            " [1]\n",
            " [0]\n",
            " [0]\n",
            " [0]\n",
            " [0]\n",
            " [1]\n",
            " [0]\n",
            " [1]\n",
            " [0]\n",
            " [0]\n",
            " [0]\n",
            " [0]\n",
            " [0]\n",
            " [1]\n",
            " [1]\n",
            " [1]\n",
            " [1]\n",
            " [0]\n",
            " [0]\n",
            " [0]\n",
            " [0]\n",
            " [0]\n",
            " [1]\n",
            " [1]\n",
            " [1]\n",
            " [1]\n",
            " [0]\n",
            " [0]\n",
            " [0]\n",
            " [0]\n",
            " [0]\n",
            " [0]\n",
            " [1]\n",
            " [1]\n",
            " [0]\n",
            " [1]\n",
            " [0]\n",
            " [0]\n",
            " [0]\n",
            " [1]\n",
            " [1]\n",
            " [0]\n",
            " [0]\n",
            " [0]\n",
            " [1]\n",
            " [0]\n",
            " [0]\n",
            " [0]\n",
            " [0]\n",
            " [0]\n",
            " [0]\n",
            " [0]\n",
            " [1]\n",
            " [0]\n",
            " [1]\n",
            " [0]\n",
            " [1]\n",
            " [0]\n",
            " [1]\n",
            " [1]\n",
            " [0]\n",
            " [0]\n",
            " [0]\n",
            " [1]\n",
            " [1]\n",
            " [1]\n",
            " [0]\n",
            " [0]\n",
            " [1]\n",
            " [0]\n",
            " [1]\n",
            " [1]\n",
            " [0]\n",
            " [1]\n",
            " [0]\n",
            " [0]\n",
            " [1]\n",
            " [1]\n",
            " [0]\n",
            " [0]\n",
            " [1]\n",
            " [0]\n",
            " [0]\n",
            " [1]\n",
            " [1]\n",
            " [0]\n",
            " [0]\n",
            " [0]\n",
            " [0]\n",
            " [0]\n",
            " [0]\n",
            " [1]\n",
            " [0]\n",
            " [0]\n",
            " [1]\n",
            " [0]\n",
            " [0]\n",
            " [0]\n",
            " [0]\n",
            " [0]\n",
            " [1]\n",
            " [1]\n",
            " [0]\n",
            " [0]\n",
            " [1]\n",
            " [0]\n",
            " [1]\n",
            " [0]\n",
            " [0]\n",
            " [1]\n",
            " [0]\n",
            " [1]\n",
            " [0]\n",
            " [1]\n",
            " [0]\n",
            " [0]\n",
            " [0]\n",
            " [1]\n",
            " [1]\n",
            " [1]\n",
            " [1]\n",
            " [0]\n",
            " [0]\n",
            " [1]\n",
            " [0]\n",
            " [0]\n",
            " [1]]\n"
          ],
          "name": "stdout"
        }
      ]
    },
    {
      "cell_type": "code",
      "metadata": {
        "id": "txWHds6xvBzk",
        "colab_type": "code",
        "colab": {
          "base_uri": "https://localhost:8080/",
          "height": 334
        },
        "outputId": "06b195a7-bd56-4c25-df1b-0666f81d1cdf"
      },
      "source": [
        "import tensorflow as tf\n",
        "#!pip install seaborn upgrade\n",
        "from tensorflow import keras \n",
        "\n",
        "from tensorflow.keras import Sequential\n",
        "from tensorflow.keras.layers import Flatten,Dense\n",
        "import numpy as np\n",
        "import pandas as pd\n",
        "import seaborn as sns\n",
        "import sklearn\n",
        "#print(sklearn.__version__)\n",
        "train=pd.read_csv('/content/drive/My Drive/data_deep_learning/titanic_machine_learning_dataset_kaggle.csv')\n",
        "train.head()\n",
        "test=pd.read_csv('/content/drive/My Drive/data_deep_learning/titanic_ml_test_kaggle.csv')\n",
        "test.head()\n",
        "\n",
        "#print(data.shape)\n",
        "##data.describe()\n",
        "sns.heatmap(train.isnull(),yticklabels=False,cbar=False,cmap='viridis')\n"
      ],
      "execution_count": null,
      "outputs": [
        {
          "output_type": "execute_result",
          "data": {
            "text/plain": [
              "<matplotlib.axes._subplots.AxesSubplot at 0x7fb3c14d1588>"
            ]
          },
          "metadata": {
            "tags": []
          },
          "execution_count": 3
        },
        {
          "output_type": "display_data",
          "data": {
            "image/png": "[encoded data removed]",
            "text/plain": [
              "<Figure size 432x288 with 1 Axes>"
            ]
          },
          "metadata": {
            "tags": [],
            "needs_background": "light"
          }
        }
      ]
    },
    {
      "cell_type": "code",
      "metadata": {
        "id": "D1Vi1i2wu80G",
        "colab_type": "code",
        "colab": {
          "base_uri": "https://localhost:8080/",
          "height": 297
        },
        "outputId": "d00530a0-803e-4c25-c775-3c5b5bd8c178"
      },
      "source": [
        "sns.countplot(x='Survived',data=train)"
      ],
      "execution_count": null,
      "outputs": [
        {
          "output_type": "execute_result",
          "data": {
            "text/plain": [
              "<matplotlib.axes._subplots.AxesSubplot at 0x7fb3bbdf8d30>"
            ]
          },
          "metadata": {
            "tags": []
          },
          "execution_count": 5
        },
        {
          "output_type": "display_data",
          "data": {
            "image/png": "[encoded data removed]",
            "text/plain": [
              "<Figure size 432x288 with 1 Axes>"
            ]
          },
          "metadata": {
            "tags": [],
            "needs_background": "light"
          }
        }
      ]
    },
    {
      "cell_type": "code",
      "metadata": {
        "id": "CWyFUzDVgCcZ",
        "colab_type": "code",
        "colab": {
          "base_uri": "https://localhost:8080/",
          "height": 297
        },
        "outputId": "1ff73078-8b5f-4890-d8f0-fabecb5591bd"
      },
      "source": [
        "sns.countplot(x='Survived',hue='Sex',data=train)"
      ],
      "execution_count": null,
      "outputs": [
        {
          "output_type": "execute_result",
          "data": {
            "text/plain": [
              "<matplotlib.axes._subplots.AxesSubplot at 0x7fb3bbd70b38>"
            ]
          },
          "metadata": {
            "tags": []
          },
          "execution_count": 6
        },
        {
          "output_type": "display_data",
          "data": {
            "image/png": "[encoded data removed]",
            "text/plain": [
              "<Figure size 432x288 with 1 Axes>"
            ]
          },
          "metadata": {
            "tags": [],
            "needs_background": "light"
          }
        }
      ]
    },
    {
      "cell_type": "code",
      "metadata": {
        "id": "jHh6iecAftFb",
        "colab_type": "code",
        "colab": {
          "base_uri": "https://localhost:8080/",
          "height": 297
        },
        "outputId": "b21112e9-bf99-4edc-8608-9e8279f19630"
      },
      "source": [
        "sns.countplot(x='Survived',hue='Pclass',data=train,palette='rainbow')"
      ],
      "execution_count": null,
      "outputs": [
        {
          "output_type": "execute_result",
          "data": {
            "text/plain": [
              "<matplotlib.axes._subplots.AxesSubplot at 0x7fb3bbccd9e8>"
            ]
          },
          "metadata": {
            "tags": []
          },
          "execution_count": 8
        },
        {
          "output_type": "display_data",
          "data": {
            "image/png": "[encoded data removed]",
            "text/plain": [
              "<Figure size 432x288 with 1 Axes>"
            ]
          },
          "metadata": {
            "tags": [],
            "needs_background": "light"
          }
        }
      ]
    },
    {
      "cell_type": "code",
      "metadata": {
        "id": "HL88slj1YUzq",
        "colab_type": "code",
        "colab": {
          "base_uri": "https://localhost:8080/",
          "height": 297
        },
        "outputId": "aeae4bd4-431d-4d8e-a52f-0c0b926eb662"
      },
      "source": [
        "sns.set_style('whitegrid')\n",
        "sns.distplot(train['Age'],kde=False,color='darkred',bins=40)\n"
      ],
      "execution_count": null,
      "outputs": [
        {
          "output_type": "execute_result",
          "data": {
            "text/plain": [
              "<matplotlib.axes._subplots.AxesSubplot at 0x7fb3bb71fb38>"
            ]
          },
          "metadata": {
            "tags": []
          },
          "execution_count": 19
        },
        {
          "output_type": "display_data",
          "data": {
            "image/png": "[encoded data removed]",
            "text/plain": [
              "<Figure size 432x288 with 1 Axes>"
            ]
          },
          "metadata": {
            "tags": []
          }
        }
      ]
    },
    {
      "cell_type": "code",
      "metadata": {
        "id": "7vyfHyj5xPfJ",
        "colab_type": "code",
        "colab": {
          "base_uri": "https://localhost:8080/",
          "height": 297
        },
        "outputId": "a7bf72d8-83d4-437f-c5ed-aaae8ae75a6c"
      },
      "source": [
        "sns.countplot(x='SibSp',data=train)\n"
      ],
      "execution_count": null,
      "outputs": [
        {
          "output_type": "execute_result",
          "data": {
            "text/plain": [
              "<matplotlib.axes._subplots.AxesSubplot at 0x7fb3bb6dbc50>"
            ]
          },
          "metadata": {
            "tags": []
          },
          "execution_count": 20
        },
        {
          "output_type": "display_data",
          "data": {
            "image/png": "[encoded data removed]",
            "text/plain": [
              "<Figure size 432x288 with 1 Axes>"
            ]
          },
          "metadata": {
            "tags": []
          }
        }
      ]
    },
    {
      "cell_type": "code",
      "metadata": {
        "id": "3Mdj5WfbzMpP",
        "colab_type": "code",
        "colab": {
          "base_uri": "https://localhost:8080/",
          "height": 284
        },
        "outputId": "a6deffd6-9743-412c-ef8b-e7e260ffecc0"
      },
      "source": [
        "train['Fare'].hist(color='green',bins=40)"
      ],
      "execution_count": null,
      "outputs": [
        {
          "output_type": "execute_result",
          "data": {
            "text/plain": [
              "<matplotlib.axes._subplots.AxesSubplot at 0x7fb3bb92bdd8>"
            ]
          },
          "metadata": {
            "tags": []
          },
          "execution_count": 21
        },
        {
          "output_type": "display_data",
          "data": {
            "image/png": "[encoded data removed]",
            "text/plain": [
              "<Figure size 432x288 with 1 Axes>"
            ]
          },
          "metadata": {
            "tags": []
          }
        }
      ]
    },
    {
      "cell_type": "code",
      "metadata": {
        "id": "NrIiI55oz2p8",
        "colab_type": "code",
        "colab": {
          "base_uri": "https://localhost:8080/",
          "height": 297
        },
        "outputId": "73b12cab-63a5-4761-f070-90e348475d67"
      },
      "source": [
        "sns.boxplot(x='Pclass',y='Age',data=train)"
      ],
      "execution_count": null,
      "outputs": [
        {
          "output_type": "execute_result",
          "data": {
            "text/plain": [
              "<matplotlib.axes._subplots.AxesSubplot at 0x7fb3bae0be80>"
            ]
          },
          "metadata": {
            "tags": []
          },
          "execution_count": 26
        },
        {
          "output_type": "display_data",
          "data": {
            "image/png": "[encoded data removed]",
            "text/plain": [
              "<Figure size 432x288 with 1 Axes>"
            ]
          },
          "metadata": {
            "tags": []
          }
        }
      ]
    },
    {
      "cell_type": "code",
      "metadata": {
        "id": "0EY_6ixK0A2-",
        "colab_type": "code",
        "colab": {
          "base_uri": "https://localhost:8080/",
          "height": 334
        },
        "outputId": "8e8d1e43-55f5-47d9-8f04-3c0b4d30b93d"
      },
      "source": [
        "def input_age(cols):\n",
        "    Age=cols[0]\n",
        "    Pclass=cols[1]\n",
        "    if pd.isnull(Age):\n",
        "        if Pclass==1:\n",
        "            return 37\n",
        "        elif Pclass==2:\n",
        "            return 29\n",
        "        elif Pclass ==3:\n",
        "            return 24\n",
        "    else:\n",
        "        return Age\n",
        "train['Age']=train[['Age','Pclass']].apply(input_age,axis=1)           \n",
        "sns.heatmap(train.isnull(),yticklabels=False,cbar=False,cmap='viridis')             "
      ],
      "execution_count": null,
      "outputs": [
        {
          "output_type": "execute_result",
          "data": {
            "text/plain": [
              "<matplotlib.axes._subplots.AxesSubplot at 0x7fb3baeca048>"
            ]
          },
          "metadata": {
            "tags": []
          },
          "execution_count": 24
        },
        {
          "output_type": "display_data",
          "data": {
            "image/png": "[encoded data removed]",
            "text/plain": [
              "<Figure size 432x288 with 1 Axes>"
            ]
          },
          "metadata": {
            "tags": []
          }
        }
      ]
    },
    {
      "cell_type": "code",
      "metadata": {
        "id": "1MaO1Tch1gb5",
        "colab_type": "code",
        "colab": {}
      },
      "source": [
        ""
      ],
      "execution_count": null,
      "outputs": []
    }
  ]
}