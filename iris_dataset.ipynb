{
  "nbformat": 4,
  "nbformat_minor": 0,
  "metadata": {
    "colab": {
      "name": "iris_dataset.ipynb",
      "provenance": [],
      "mount_file_id": "1i0W1uJDtkuK2qMzrv-1aOQMeNc7YfwNG",
      "authorship_tag": "ABX9TyPbfhuwMiucbHgftzASay1a",
      "include_colab_link": true
    },
    "kernelspec": {
      "name": "python3",
      "display_name": "Python 3"
    }
  },
  "cells": [
    {
      "cell_type": "markdown",
      "metadata": {
        "id": "view-in-github",
        "colab_type": "text"
      },
      "source": [
        "<a href=\"https://colab.research.google.com/github/tejpal123456789/Data-science-and-Machine-learning-projects/blob/master/iris_dataset.ipynb\" target=\"_parent\"><img src=\"https://colab.research.google.com/assets/colab-badge.svg\" alt=\"Open In Colab\"/></a>"
      ]
    },
    {
      "cell_type": "code",
      "metadata": {
        "id": "l0urgFa8cEZs",
        "colab_type": "code",
        "colab": {
          "base_uri": "https://localhost:8080/",
          "height": 283
        },
        "outputId": "742fcb07-5a33-4daf-c105-fb8400b6b395"
      },
      "source": [
        "import pandas as pd\n",
        "import numpy as np\n",
        "import tensorflow as tf\n",
        "from tensorflow import keras\n",
        "from matplotlib import pyplot as plt\n",
        "import seaborn as sns\n",
        "\n",
        "from sklearn import datasets\n",
        "data=pd.read_csv('/content/drive/My Drive/data_deep_learning/iris_dataset.csv')\n",
        "data.head()\n",
        "\n",
        "#univarate ananlysis\n",
        "\n",
        "df_setosa=data.loc[data['species']=='Iris-setosa']\n",
        "df_setosa.shape\n",
        "df_virginica=data.loc[data['species']=='Iris-virginica']\n",
        "df_versicolor=data.loc[data['species']=='Iris-versicolor']\n",
        "\n",
        "plt.plot(df_setosa['sepal_length'],np.zeros_like(df_setosa['sepal_length']))\n",
        "plt.plot(df_virginica['sepal_length'],np.zeros_like(df_virginica['sepal_length']))\n",
        "plt.plot(df_versicolor['sepal_length'],np.zeros_like(df_versicolor['sepal_length']))\n",
        "plt.xticks(color='orange')\n",
        "plt.yticks(color='orange')\n",
        "plt.show"
      ],
      "execution_count": null,
      "outputs": [
        {
          "output_type": "execute_result",
          "data": {
            "text/plain": [
              "<function matplotlib.pyplot.show>"
            ]
          },
          "metadata": {
            "tags": []
          },
          "execution_count": 5
        },
        {
          "output_type": "display_data",
          "data": {
            "image/png": "[encoded data removed]",
            "text/plain": [
              "<Figure size 432x288 with 1 Axes>"
            ]
          },
          "metadata": {
            "tags": [],
            "needs_background": "dark"
          }
        }
      ]
    },
    {
      "cell_type": "code",
      "metadata": {
        "id": "XSenbV3tko12",
        "colab_type": "code",
        "colab": {}
      },
      "source": [
        ""
      ],
      "execution_count": null,
      "outputs": []
    },
    {
      "cell_type": "code",
      "metadata": {
        "id": "1M_Va8i2kq97",
        "colab_type": "code",
        "colab": {}
      },
      "source": [
        ""
      ],
      "execution_count": null,
      "outputs": []
    },
    {
      "cell_type": "code",
      "metadata": {
        "id": "urhl2zTBkr1l",
        "colab_type": "code",
        "colab": {}
      },
      "source": [
        ""
      ],
      "execution_count": null,
      "outputs": []
    },
    {
      "cell_type": "code",
      "metadata": {
        "id": "RqtmZQYLi3q1",
        "colab_type": "code",
        "colab": {
          "base_uri": "https://localhost:8080/",
          "height": 460
        },
        "outputId": "cf6a129c-6934-4581-8c3d-e257aa2d4c52"
      },
      "source": [
        "# bivarte analysis\n",
        "sns.FacetGrid(data,hue='species',size=5).map(plt.scatter,'sepal_length','sepal_width').add_legend()\n",
        "plt.show\n",
        "plt.xticks(color='orange')\n",
        "plt.yticks(color='orange')"
      ],
      "execution_count": null,
      "outputs": [
        {
          "output_type": "stream",
          "text": [
            "/usr/local/lib/python3.6/dist-packages/seaborn/axisgrid.py:243: UserWarning: The `size` parameter has been renamed to `height`; please update your code.\n",
            "  warnings.warn(msg, UserWarning)\n"
          ],
          "name": "stderr"
        },
        {
          "output_type": "execute_result",
          "data": {
            "text/plain": [
              "(array([1.5, 2. , 2.5, 3. , 3.5, 4. , 4.5, 5. ]),\n",
              " <a list of 8 Text major ticklabel objects>)"
            ]
          },
          "metadata": {
            "tags": []
          },
          "execution_count": 28
        },
        {
          "output_type": "display_data",
          "data": {
            "image/png": "[encoded data removed]",
            "text/plain": [
              "<Figure size 463.25x360 with 1 Axes>"
            ]
          },
          "metadata": {
            "tags": [],
            "needs_background": "dark"
          }
        }
      ]
    },
    {
      "cell_type": "code",
      "metadata": {
        "id": "_57tNmMCjwOL",
        "colab_type": "code",
        "colab": {
          "base_uri": "https://localhost:8080/",
          "height": 283
        },
        "outputId": "50e22f61-8270-4430-cdee-11ca9664e024"
      },
      "source": [
        "#multivariate ananlysis\n",
        "import seaborn as sns\n",
        "#sns.pairplot(data,hue='species',size=5)\n",
        "plt.xticks(color='orange')\n",
        "plt.yticks(color='orange')\n",
        "sns.distplot(data.drop(['species'],axis=1))"
      ],
      "execution_count": null,
      "outputs": [
        {
          "output_type": "execute_result",
          "data": {
            "text/plain": [
              "<matplotlib.axes._subplots.AxesSubplot at 0x7f04c3d231d0>"
            ]
          },
          "metadata": {
            "tags": []
          },
          "execution_count": 11
        },
        {
          "output_type": "display_data",
          "data": {
            "image/png": "[encoded data removed]",
            "text/plain": [
              "<Figure size 432x288 with 1 Axes>"
            ]
          },
          "metadata": {
            "tags": [],
            "needs_background": "dark"
          }
        }
      ]
    },
    {
      "cell_type": "code",
      "metadata": {
        "id": "zohD2bEtkuFE",
        "colab_type": "code",
        "colab": {
          "base_uri": "https://localhost:8080/",
          "height": 1000
        },
        "outputId": "f0d9b4fb-486c-4307-9103-be1d86e33305"
      },
      "source": [
        "data.head()\n",
        "from sklearn.preprocessing import LabelEncoder\n",
        "label=LabelEncoder()\n",
        "data['species']=label.fit_transform(data['species'])\n",
        "\n",
        "data.head()\n",
        "data['species'].value_counts()\n",
        "x=data.drop(['species'],axis=1)\n",
        "y=data['species']\n",
        "\n",
        "\n",
        "from sklearn.model_selection import train_test_split\n",
        "x_train,x_test,y_train,y_test=train_test_split(x,y,test_size=0.01)\n",
        "from sklearn.preprocessing import StandardScaler\n",
        "scale=StandardScaler()\n",
        "x_train=scale.fit_transform(x_train)\n",
        "x_test=scale.transform(x_test)\n",
        "\n",
        "from tensorflow.keras import Sequential\n",
        "from tensorflow.keras.layers import Flatten,Dense,Activation\n",
        "\n",
        "model=Sequential()\n",
        "model.add(Flatten())\n",
        "model.add(Dense(units=128,activation='relu'))\n",
        "model.add(Dense(units=128,activation='relu'))\n",
        "model.add(Dense(3,activation='softmax'))\n",
        "\n",
        "model.compile(optimizer='adam',loss=tf.keras.losses.SparseCategoricalCrossentropy(),metrics=['accuracy'])\n",
        "model.fit(x_train,y_train,epochs=50)\n",
        "\n",
        "prediction=model.predict_classes(x_test)\n",
        "print(prediction)\n",
        "print(y_test)"
      ],
      "execution_count": null,
      "outputs": [
        {
          "output_type": "stream",
          "text": [
            "Epoch 1/50\n",
            "5/5 [==============================] - 0s 2ms/step - loss: 1.0149 - accuracy: 0.5135\n",
            "Epoch 2/50\n",
            "5/5 [==============================] - 0s 2ms/step - loss: 0.8038 - accuracy: 0.8176\n",
            "Epoch 3/50\n",
            "5/5 [==============================] - 0s 2ms/step - loss: 0.6529 - accuracy: 0.8243\n",
            "Epoch 4/50\n",
            "5/5 [==============================] - 0s 2ms/step - loss: 0.5399 - accuracy: 0.8311\n",
            "Epoch 5/50\n",
            "5/5 [==============================] - 0s 2ms/step - loss: 0.4573 - accuracy: 0.8378\n",
            "Epoch 6/50\n",
            "5/5 [==============================] - 0s 1ms/step - loss: 0.3995 - accuracy: 0.8378\n",
            "Epoch 7/50\n",
            "5/5 [==============================] - 0s 2ms/step - loss: 0.3575 - accuracy: 0.8446\n",
            "Epoch 8/50\n",
            "5/5 [==============================] - 0s 2ms/step - loss: 0.3254 - accuracy: 0.8581\n",
            "Epoch 9/50\n",
            "5/5 [==============================] - 0s 2ms/step - loss: 0.3032 - accuracy: 0.8649\n",
            "Epoch 10/50\n",
            "5/5 [==============================] - 0s 1ms/step - loss: 0.2805 - accuracy: 0.8784\n",
            "Epoch 11/50\n",
            "5/5 [==============================] - 0s 2ms/step - loss: 0.2608 - accuracy: 0.8784\n",
            "Epoch 12/50\n",
            "5/5 [==============================] - 0s 2ms/step - loss: 0.2430 - accuracy: 0.8851\n",
            "Epoch 13/50\n",
            "5/5 [==============================] - 0s 2ms/step - loss: 0.2251 - accuracy: 0.9122\n",
            "Epoch 14/50\n",
            "5/5 [==============================] - 0s 2ms/step - loss: 0.2090 - accuracy: 0.9324\n",
            "Epoch 15/50\n",
            "5/5 [==============================] - 0s 2ms/step - loss: 0.1928 - accuracy: 0.9324\n",
            "Epoch 16/50\n",
            "5/5 [==============================] - 0s 2ms/step - loss: 0.1792 - accuracy: 0.9324\n",
            "Epoch 17/50\n",
            "5/5 [==============================] - 0s 2ms/step - loss: 0.1672 - accuracy: 0.9459\n",
            "Epoch 18/50\n",
            "5/5 [==============================] - 0s 2ms/step - loss: 0.1534 - accuracy: 0.9595\n",
            "Epoch 19/50\n",
            "5/5 [==============================] - 0s 2ms/step - loss: 0.1434 - accuracy: 0.9662\n",
            "Epoch 20/50\n",
            "5/5 [==============================] - 0s 2ms/step - loss: 0.1335 - accuracy: 0.9595\n",
            "Epoch 21/50\n",
            "5/5 [==============================] - 0s 2ms/step - loss: 0.1235 - accuracy: 0.9662\n",
            "Epoch 22/50\n",
            "5/5 [==============================] - 0s 2ms/step - loss: 0.1180 - accuracy: 0.9730\n",
            "Epoch 23/50\n",
            "5/5 [==============================] - 0s 2ms/step - loss: 0.1088 - accuracy: 0.9730\n",
            "Epoch 24/50\n",
            "5/5 [==============================] - 0s 2ms/step - loss: 0.1047 - accuracy: 0.9527\n",
            "Epoch 25/50\n",
            "5/5 [==============================] - 0s 2ms/step - loss: 0.0942 - accuracy: 0.9730\n",
            "Epoch 26/50\n",
            "5/5 [==============================] - 0s 2ms/step - loss: 0.0893 - accuracy: 0.9730\n",
            "Epoch 27/50\n",
            "5/5 [==============================] - 0s 2ms/step - loss: 0.0871 - accuracy: 0.9797\n",
            "Epoch 28/50\n",
            "5/5 [==============================] - 0s 2ms/step - loss: 0.0836 - accuracy: 0.9662\n",
            "Epoch 29/50\n",
            "5/5 [==============================] - 0s 2ms/step - loss: 0.0795 - accuracy: 0.9662\n",
            "Epoch 30/50\n",
            "5/5 [==============================] - 0s 2ms/step - loss: 0.0726 - accuracy: 0.9730\n",
            "Epoch 31/50\n",
            "5/5 [==============================] - 0s 2ms/step - loss: 0.0721 - accuracy: 0.9797\n",
            "Epoch 32/50\n",
            "5/5 [==============================] - 0s 1ms/step - loss: 0.0686 - accuracy: 0.9797\n",
            "Epoch 33/50\n",
            "5/5 [==============================] - 0s 2ms/step - loss: 0.0646 - accuracy: 0.9797\n",
            "Epoch 34/50\n",
            "5/5 [==============================] - 0s 2ms/step - loss: 0.0625 - accuracy: 0.9730\n",
            "Epoch 35/50\n",
            "5/5 [==============================] - 0s 2ms/step - loss: 0.0609 - accuracy: 0.9865\n",
            "Epoch 36/50\n",
            "5/5 [==============================] - 0s 2ms/step - loss: 0.0615 - accuracy: 0.9797\n",
            "Epoch 37/50\n",
            "5/5 [==============================] - 0s 2ms/step - loss: 0.0573 - accuracy: 0.9797\n",
            "Epoch 38/50\n",
            "5/5 [==============================] - 0s 2ms/step - loss: 0.0552 - accuracy: 0.9865\n",
            "Epoch 39/50\n",
            "5/5 [==============================] - 0s 2ms/step - loss: 0.0537 - accuracy: 0.9797\n",
            "Epoch 40/50\n",
            "5/5 [==============================] - 0s 2ms/step - loss: 0.0525 - accuracy: 0.9797\n",
            "Epoch 41/50\n",
            "5/5 [==============================] - 0s 2ms/step - loss: 0.0515 - accuracy: 0.9797\n",
            "Epoch 42/50\n",
            "5/5 [==============================] - 0s 2ms/step - loss: 0.0512 - accuracy: 0.9865\n",
            "Epoch 43/50\n",
            "5/5 [==============================] - 0s 2ms/step - loss: 0.0493 - accuracy: 0.9865\n",
            "Epoch 44/50\n",
            "5/5 [==============================] - 0s 2ms/step - loss: 0.0496 - accuracy: 0.9730\n",
            "Epoch 45/50\n",
            "5/5 [==============================] - 0s 2ms/step - loss: 0.0478 - accuracy: 0.9797\n",
            "Epoch 46/50\n",
            "5/5 [==============================] - 0s 2ms/step - loss: 0.0472 - accuracy: 0.9865\n",
            "Epoch 47/50\n",
            "5/5 [==============================] - 0s 2ms/step - loss: 0.0465 - accuracy: 0.9797\n",
            "Epoch 48/50\n",
            "5/5 [==============================] - 0s 2ms/step - loss: 0.0474 - accuracy: 0.9797\n",
            "Epoch 49/50\n",
            "5/5 [==============================] - 0s 1ms/step - loss: 0.0465 - accuracy: 0.9865\n",
            "Epoch 50/50\n",
            "5/5 [==============================] - 0s 1ms/step - loss: 0.0468 - accuracy: 0.9865\n",
            "[2 2]\n",
            "116    2\n",
            "128    2\n",
            "Name: species, dtype: int64\n"
          ],
          "name": "stdout"
        }
      ]
    }
  ]
}