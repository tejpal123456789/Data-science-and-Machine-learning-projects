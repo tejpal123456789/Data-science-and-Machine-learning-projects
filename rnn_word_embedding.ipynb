{
  "nbformat": 4,
  "nbformat_minor": 0,
  "metadata": {
    "colab": {
      "name": "rnn_word_embedding.ipynb",
      "provenance": [],
      "authorship_tag": "ABX9TyOfHDh7V+2O03/MfL7VQiM/"
    },
    "kernelspec": {
      "name": "python3",
      "display_name": "Python 3"
    }
  },
  "cells": [
    {
      "cell_type": "code",
      "metadata": {
        "id": "QO3DcBMmKb8f",
        "colab_type": "code",
        "colab": {
          "base_uri": "https://localhost:8080/",
          "height": 621
        },
        "outputId": "1e3d5e87-f8a7-4887-dee3-0552db9dc45d"
      },
      "source": [
        "import tensorflow as tf\n",
        "from tensorflow import keras \n",
        "from tensorflow.keras.preprocessing.text import one_hot\n",
        "sent=['the glass is milk',\n",
        "      'the glass of juice',\n",
        "      'the cup of tea',\n",
        "      'i am a good machine learner',\n",
        "      'your are a nice cricket bowler',]\n",
        "print(sent)      \n",
        "\n",
        "voc_size=10000\n",
        "one_hot_repre=[one_hot(words,voc_size)for words in sent]\n",
        "print(one_hot_repre)\n",
        "from keras.layers import Embedding\n",
        "from tensorflow.keras.preprocessing.sequence import pad_sequences\n",
        "from keras.models import Sequential\n",
        "\n",
        "sent_length=8\n",
        "\n",
        "import numpy as np\n",
        "embedded_docs=pad_sequences(one_hot_repre,padding='pre',maxlen=sent_length)\n",
        "print(embedded_docs)\n",
        "dim=10\n",
        "model=Sequential()\n",
        "model.add(Embedding(voc_size,10,input_length=sent_length))\n",
        "model.compile('adam','mse')\n",
        "model.summary()\n",
        "\n",
        "print(model.predict(embedded_docs)[0])\n",
        "print(embedded_docs[0])\n"
      ],
      "execution_count": null,
      "outputs": [
        {
          "output_type": "stream",
          "text": [
            "['the glass is milk', 'the glass of juice', 'the cup of tea', 'i am a good machine learner', 'your are a nice cricket bowler']\n",
            "[[6940, 2953, 1605, 5485], [6940, 2953, 9120, 1636], [6940, 1489, 9120, 8890], [6404, 6772, 8239, 7, 3524, 5302], [315, 1708, 8239, 67, 2822, 3329]]\n",
            "[[   0    0    0    0 6940 2953 1605 5485]\n",
            " [   0    0    0    0 6940 2953 9120 1636]\n",
            " [   0    0    0    0 6940 1489 9120 8890]\n",
            " [   0    0 6404 6772 8239    7 3524 5302]\n",
            " [   0    0  315 1708 8239   67 2822 3329]]\n",
            "Model: \"sequential_10\"\n",
            "_________________________________________________________________\n",
            "Layer (type)                 Output Shape              Param #   \n",
            "=================================================================\n",
            "embedding_5 (Embedding)      (None, 8, 10)             100000    \n",
            "=================================================================\n",
            "Total params: 100,000\n",
            "Trainable params: 100,000\n",
            "Non-trainable params: 0\n",
            "_________________________________________________________________\n",
            "[[ 0.00496132 -0.01680318 -0.00643482  0.01897499  0.04199998 -0.00881403\n",
            "   0.01424063 -0.00503904  0.00066435 -0.03854037]\n",
            " [ 0.00496132 -0.01680318 -0.00643482  0.01897499  0.04199998 -0.00881403\n",
            "   0.01424063 -0.00503904  0.00066435 -0.03854037]\n",
            " [ 0.00496132 -0.01680318 -0.00643482  0.01897499  0.04199998 -0.00881403\n",
            "   0.01424063 -0.00503904  0.00066435 -0.03854037]\n",
            " [ 0.00496132 -0.01680318 -0.00643482  0.01897499  0.04199998 -0.00881403\n",
            "   0.01424063 -0.00503904  0.00066435 -0.03854037]\n",
            " [ 0.04516046  0.00131354 -0.03596885  0.04006806 -0.01386778 -0.02124921\n",
            "   0.02218017  0.03310562 -0.02270682  0.01016445]\n",
            " [ 0.02657342  0.00774828  0.04467129 -0.01913843 -0.0344008  -0.04252822\n",
            "   0.02608558 -0.03170561 -0.02342253  0.02914811]\n",
            " [-0.02950775 -0.00774409 -0.02173847  0.00279362  0.02849582 -0.0056961\n",
            "   0.03907356  0.04003238  0.00262339  0.00625926]\n",
            " [-0.0497401   0.03367919 -0.0072456  -0.01361859  0.0193771  -0.03852645\n",
            "   0.0299377  -0.01368989 -0.04516797 -0.01952438]]\n",
            "[   0    0    0    0 6940 2953 1605 5485]\n"
          ],
          "name": "stdout"
        }
      ]
    }
  ]
}