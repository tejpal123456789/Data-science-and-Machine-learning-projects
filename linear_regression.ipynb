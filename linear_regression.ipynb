{
  "nbformat": 4,
  "nbformat_minor": 0,
  "metadata": {
    "colab": {
      "name": "linear_regression.ipynb",
      "provenance": [],
      "authorship_tag": "ABX9TyPtiqrEGnn8CqQuK72yMEyD"
    },
    "kernelspec": {
      "name": "python3",
      "display_name": "Python 3"
    }
  },
  "cells": [
    {
      "cell_type": "code",
      "metadata": {
        "id": "8wvBljAGMHP8",
        "colab_type": "code",
        "colab": {
          "base_uri": "https://localhost:8080/",
          "height": 337
        },
        "outputId": "97f2327a-e07d-454f-d481-641d13f4c238"
      },
      "source": [
        "import tensorflow as tf\n",
        "import numpy as np\n",
        "from matplotlib import pyplot as plt\n",
        "tf.compat.v1.disable_eager_execution()\n",
        "learning_rate=0.01\n",
        "n_samples=30\n",
        "x_train=np.linspace(0,20,n_samples)\n",
        "y_train=3*x_train+4*np.random.randn(n_samples)\n",
        "#print(x_train)\n",
        "#print(y_train)\n",
        "plt.scatter(x_train,y_train)\n",
        "#plt.show()\n",
        "X=tf.compat.v1.placeholder(tf.float32)\n",
        "Y=tf.compat.v1.placeholder(tf.float32)\n",
        "W=tf.Variable(np.random.randn(), name='weight')\n",
        "B=tf.Variable(np.random.randn(),name='bais')\n",
        "pred=W*X+B\n",
        "#pred=tf.add(tf.multiply(W,X),B)\n",
        "cost=tf.reduce_sum((pred-Y)**2)/(2*n_samples)\n",
        "optimizer=tf.compat.v1.train.GradientDescentOptimizer(learning_rate).minimize(cost)\n",
        "\n",
        "init=tf.compat.v1.global_variables_initializer()\n",
        "with tf.compat.v1.Session() as sess:\n",
        "    sess.run(init)\n",
        "    for i in range(200):\n",
        "        #for x,y in zip(x_train,y_train):\n",
        "            sess.run(optimizer,feed_dict={X:x_train,Y:y_train})\n",
        "    w=sess.run(W)\n",
        "    b=sess.run(B)\n",
        "\n",
        "plt.plot(x_train,w*x_train+b)\n",
        "plt.show()"
      ],
      "execution_count": null,
      "outputs": [
        {
          "output_type": "stream",
          "text": [
            "WARNING:tensorflow:From /usr/local/lib/python3.6/dist-packages/tensorflow/python/ops/resource_variable_ops.py:1666: calling BaseResourceVariable.__init__ (from tensorflow.python.ops.resource_variable_ops) with constraint is deprecated and will be removed in a future version.\n",
            "Instructions for updating:\n",
            "If using Keras pass *_constraint arguments to layers.\n"
          ],
          "name": "stdout"
        },
        {
          "output_type": "display_data",
          "data": {
            "image/png": "[encoded data removed]",
            "text/plain": [
              "<Figure size 432x288 with 1 Axes>"
            ]
          },
          "metadata": {
            "tags": [],
            "needs_background": "light"
          }
        }
      ]
    }
  ]
}